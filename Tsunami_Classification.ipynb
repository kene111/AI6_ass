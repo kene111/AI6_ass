{
  "nbformat": 4,
  "nbformat_minor": 0,
  "metadata": {
    "kernelspec": {
      "display_name": "Python 3",
      "language": "python",
      "name": "python3"
    },
    "language_info": {
      "codemirror_mode": {
        "name": "ipython",
        "version": 3
      },
      "file_extension": ".py",
      "mimetype": "text/x-python",
      "name": "python",
      "nbconvert_exporter": "python",
      "pygments_lexer": "ipython3",
      "version": "3.7.6"
    },
    "colab": {
      "name": "Tsunami Classification.ipynb",
      "provenance": [],
      "toc_visible": true,
      "include_colab_link": true
    },
    "accelerator": "GPU"
  },
  "cells": [
    {
      "cell_type": "markdown",
      "metadata": {
        "id": "view-in-github",
        "colab_type": "text"
      },
      "source": [
        "<a href=\"https://colab.research.google.com/github/kene111/AI6_ass/blob/master/Tsunami_Classification.ipynb\" target=\"_parent\"><img src=\"https://colab.research.google.com/assets/colab-badge.svg\" alt=\"Open In Colab\"/></a>"
      ]
    },
    {
      "cell_type": "code",
      "metadata": {
        "id": "8LHmohFeOrr3",
        "colab_type": "code",
        "colab": {
          "base_uri": "https://localhost:8080/",
          "height": 71
        },
        "outputId": "4c79e9d5-075a-4c4e-ec38-51a36f6fdaba"
      },
      "source": [
        "import pandas as pd\n",
        "import numpy as np\n",
        "import matplotlib.pyplot as plt\n",
        "import seaborn as sns"
      ],
      "execution_count": 1,
      "outputs": [
        {
          "output_type": "stream",
          "text": [
            "/usr/local/lib/python3.6/dist-packages/statsmodels/tools/_testing.py:19: FutureWarning: pandas.util.testing is deprecated. Use the functions in the public API at pandas.testing instead.\n",
            "  import pandas.util.testing as tm\n"
          ],
          "name": "stderr"
        }
      ]
    },
    {
      "cell_type": "markdown",
      "metadata": {
        "id": "VLQFA_YgOrsF",
        "colab_type": "text"
      },
      "source": [
        "### PREPROCESSING"
      ]
    },
    {
      "cell_type": "code",
      "metadata": {
        "id": "hkTj3GGAOrsH",
        "colab_type": "code",
        "colab": {}
      },
      "source": [
        "# The preprocessing function accepts a pandas dataframe with the \"Year\", \"Month\" and \"Day\" features for when a natural disaster\n",
        "# occured as well as the \"Longitude\" and \"latitude\" coordinates. The function returns a pandas dataframe with the mentioned \n",
        "# features but for all days within the starting and ending year of the original dataframe. It also has an added feature \n",
        "# \"target\" which is a 1 if a natural disaster occured on that day, and a 0 otherwise.\n",
        "\n",
        "def preprocessing_dataframe(disaster_df):\n",
        "    preprocessed_dict = {'Year': [], 'Latitude':[], 'Longitude': [], 'Month': [], 'Day': [], 'target': []} # Starting with a dictionary to hold all values, but will later change to a pandas dataframe\n",
        "    # Creating a dictionary that stores the latitude and longitude values for each specific place in the dataframe\n",
        "    print('Preprocessing ... ')\n",
        "    print(' ')\n",
        "    place_coords = {}\n",
        "    for place in disaster_df['Name'].unique():\n",
        "        lat = disaster_df[disaster_df['Name'] == place]['Latitude'].unique()[0]\n",
        "        lng = disaster_df[disaster_df['Name'] == place]['Longitude'].unique()[0]\n",
        "        place_coords[place] = (lat, lng)\n",
        "        \n",
        "    # All places with their respective coordinates are now stored in the \"place_coords\" dictionary\n",
        "    \n",
        "    year_start = disaster_df['Year'].unique().min() # Getting the earliest year in the dataframe\n",
        "    year_end = disaster_df['Year'].unique().max() # Getting the last year in the dataframe\n",
        "    \n",
        "    # Now, I'll iterate through all the years in order to assign the targets\n",
        "    for year in range(year_start, year_end+1):  \n",
        "        year_df = disaster_df[disaster_df['Year'] == year] # Dataframe for disasters happening in year \"year\" \n",
        "        \n",
        "        # I'll have to account for all the days of the months in the year, which are usually 30 and 31 except February\n",
        "        # Assigning the number of days for a specific year in the month of February is dependent on if the year is a leap year \n",
        "        # or not, where the number of days will be 29 or 28 respectively.\n",
        "        \n",
        "        month_days = [31, 28, 31, 30, 31, 30, 31, 31, 30, 31, 30, 31] # List containing number of days for each month of the year accordingly, i.e index 0 or January with 31 days. This is the list of days assuming it is not a leap year\n",
        "        if year%4 == 0:\n",
        "            if year%100 != 0:\n",
        "                month_days[1] = 29\n",
        "            else:\n",
        "                if year%400 == 0:\n",
        "                    month_days[1] = 29\n",
        "        \n",
        "        # Now, the \"month_days\" list's index \"1\" will remain 28 if it is not a leap year, and be changed to 29 if it is indeed\n",
        "        # a leap year\n",
        "        \n",
        "        # Would also need to iterate through all the places in the dataframe\n",
        "        for place in place_coords:\n",
        "            place_df = year_df[year_df['Name'] == place] # DataFrame for observations of only the place \"place\" \n",
        "            month_number = 1 # This is supposed to be January\n",
        "            \n",
        "            #Similar, iterating through all months...\n",
        "            for days in month_days:\n",
        "                month_df = place_df[place_df['Month'] == month_number] # DataFrame containing observations of only the month \"month\"\n",
        "                \n",
        "                # Iterating through all the days in the month...\n",
        "                for day in range(1, days+1):\n",
        "                    preprocessed_dict['Year'].append(year)\n",
        "                    preprocessed_dict['Latitude'].append(place_coords[place][0])\n",
        "                    preprocessed_dict['Longitude'].append(place_coords[place][1])\n",
        "                    preprocessed_dict['Month'].append(month_number)\n",
        "                    preprocessed_dict['Day'].append(day)\n",
        "                    # And finally, if the particular date is present in the dataframe, the target is set to 1, and 0 otherwise\n",
        "                    if place in year_df['Name'].unique() and month_number in place_df['Month'].unique() and day in month_df['Day'].unique():\n",
        "                        preprocessed_dict['target'].append(1)\n",
        "                    else:\n",
        "                        preprocessed_dict['target'].append(0)\n",
        "                month_number += 1\n",
        "                \n",
        "    preprocessed_df = pd.DataFrame(preprocessed_dict) # Transforming to a dataframe\n",
        "    \n",
        "    # Things to note: The function doesn't consider nan values, so if there is a nan value in any of the date features it will\n",
        "    # set the target to 0. Also, the preprocessed dataframe can be very large without care, so maybe sticking to 40, 50 years\n",
        "    # at most will be desirable. Also helps that for latter years, there's a lot less nan values. But could also edit it to\n",
        "    # perform a task if there is are nan values present.\n",
        "    print('Done!')\n",
        "    return preprocessed_df "
      ],
      "execution_count": 2,
      "outputs": []
    },
    {
      "cell_type": "code",
      "metadata": {
        "id": "8hB9JtMlOrsR",
        "colab_type": "code",
        "colab": {}
      },
      "source": [
        "tsu = pd.read_csv('/content/tsrunup.txt',delimiter = '\\t', quoting = 3, encoding='latin-1')"
      ],
      "execution_count": 3,
      "outputs": []
    },
    {
      "cell_type": "code",
      "metadata": {
        "id": "yekkdyKdOrsa",
        "colab_type": "code",
        "colab": {
          "base_uri": "https://localhost:8080/",
          "height": 258
        },
        "outputId": "2297af44-1800-4945-c986-35e81fd0da08"
      },
      "source": [
        "tsu.head()"
      ],
      "execution_count": 4,
      "outputs": [
        {
          "output_type": "execute_result",
          "data": {
            "text/html": [
              "<div>\n",
              "<style scoped>\n",
              "    .dataframe tbody tr th:only-of-type {\n",
              "        vertical-align: middle;\n",
              "    }\n",
              "\n",
              "    .dataframe tbody tr th {\n",
              "        vertical-align: top;\n",
              "    }\n",
              "\n",
              "    .dataframe thead th {\n",
              "        text-align: right;\n",
              "    }\n",
              "</style>\n",
              "<table border=\"1\" class=\"dataframe\">\n",
              "  <thead>\n",
              "    <tr style=\"text-align: right;\">\n",
              "      <th></th>\n",
              "      <th>I_D</th>\n",
              "      <th>TSEVENT_ID</th>\n",
              "      <th>YEAR</th>\n",
              "      <th>MONTH</th>\n",
              "      <th>DAY</th>\n",
              "      <th>HOUR</th>\n",
              "      <th>MINUTE</th>\n",
              "      <th>SECOND</th>\n",
              "      <th>DOUBTFUL</th>\n",
              "      <th>COUNTRY</th>\n",
              "      <th>STATE</th>\n",
              "      <th>LOCATION_NAME</th>\n",
              "      <th>LATITUDE</th>\n",
              "      <th>LONGITUDE</th>\n",
              "      <th>REGION_CODE</th>\n",
              "      <th>DISTANCE_FROM_SOURCE</th>\n",
              "      <th>ARR_DAY</th>\n",
              "      <th>ARR_HOUR</th>\n",
              "      <th>ARR_MIN</th>\n",
              "      <th>TRAVEL_TIME_HOURS</th>\n",
              "      <th>TRAVEL_TIME_MINUTES</th>\n",
              "      <th>WATER_HT</th>\n",
              "      <th>HORIZONTAL_INUNDATION</th>\n",
              "      <th>TYPE_MEASUREMENT_ID</th>\n",
              "      <th>PERIOD</th>\n",
              "      <th>FIRST_MOTION</th>\n",
              "      <th>DEATHS</th>\n",
              "      <th>DEATHS_DESCRIPTION</th>\n",
              "      <th>INJURIES</th>\n",
              "      <th>INJURIES_DESCRIPTION</th>\n",
              "      <th>DAMAGE_MILLIONS_DOLLARS</th>\n",
              "      <th>DAMAGE_DESCRIPTION</th>\n",
              "      <th>HOUSES_DAMAGED</th>\n",
              "      <th>HOUSES_DAMAGED_DESCRIPTION</th>\n",
              "      <th>HOUSES_DESTROYED</th>\n",
              "      <th>HOUSES_DESTROYED_DESCRIPTION</th>\n",
              "    </tr>\n",
              "  </thead>\n",
              "  <tbody>\n",
              "    <tr>\n",
              "      <th>0</th>\n",
              "      <td>11014</td>\n",
              "      <td>1</td>\n",
              "      <td>-2000</td>\n",
              "      <td>NaN</td>\n",
              "      <td>NaN</td>\n",
              "      <td>NaN</td>\n",
              "      <td>NaN</td>\n",
              "      <td>NaN</td>\n",
              "      <td>NaN</td>\n",
              "      <td>SYRIA</td>\n",
              "      <td>NaN</td>\n",
              "      <td>UGARIT</td>\n",
              "      <td>35.583</td>\n",
              "      <td>35.7500</td>\n",
              "      <td>50</td>\n",
              "      <td>12.0</td>\n",
              "      <td>NaN</td>\n",
              "      <td>NaN</td>\n",
              "      <td>NaN</td>\n",
              "      <td>NaN</td>\n",
              "      <td>NaN</td>\n",
              "      <td>NaN</td>\n",
              "      <td>NaN</td>\n",
              "      <td>1.0</td>\n",
              "      <td>NaN</td>\n",
              "      <td>NaN</td>\n",
              "      <td>NaN</td>\n",
              "      <td>3.0</td>\n",
              "      <td>NaN</td>\n",
              "      <td>NaN</td>\n",
              "      <td>NaN</td>\n",
              "      <td>4.0</td>\n",
              "      <td>NaN</td>\n",
              "      <td>NaN</td>\n",
              "      <td>NaN</td>\n",
              "      <td></td>\n",
              "    </tr>\n",
              "    <tr>\n",
              "      <th>1</th>\n",
              "      <td>17601</td>\n",
              "      <td>3</td>\n",
              "      <td>-1610</td>\n",
              "      <td>NaN</td>\n",
              "      <td>NaN</td>\n",
              "      <td>NaN</td>\n",
              "      <td>NaN</td>\n",
              "      <td>NaN</td>\n",
              "      <td>NaN</td>\n",
              "      <td>SYRIA</td>\n",
              "      <td>NaN</td>\n",
              "      <td>UGARIT</td>\n",
              "      <td>35.583</td>\n",
              "      <td>35.7500</td>\n",
              "      <td>50</td>\n",
              "      <td>935.0</td>\n",
              "      <td>NaN</td>\n",
              "      <td>NaN</td>\n",
              "      <td>NaN</td>\n",
              "      <td>NaN</td>\n",
              "      <td>NaN</td>\n",
              "      <td>NaN</td>\n",
              "      <td>NaN</td>\n",
              "      <td>1.0</td>\n",
              "      <td>NaN</td>\n",
              "      <td>NaN</td>\n",
              "      <td>NaN</td>\n",
              "      <td>3.0</td>\n",
              "      <td>NaN</td>\n",
              "      <td>NaN</td>\n",
              "      <td>NaN</td>\n",
              "      <td>3.0</td>\n",
              "      <td>NaN</td>\n",
              "      <td>NaN</td>\n",
              "      <td>NaN</td>\n",
              "      <td></td>\n",
              "    </tr>\n",
              "    <tr>\n",
              "      <th>2</th>\n",
              "      <td>1</td>\n",
              "      <td>3</td>\n",
              "      <td>-1610</td>\n",
              "      <td>NaN</td>\n",
              "      <td>NaN</td>\n",
              "      <td>NaN</td>\n",
              "      <td>NaN</td>\n",
              "      <td>NaN</td>\n",
              "      <td>NaN</td>\n",
              "      <td>GREECE</td>\n",
              "      <td>NaN</td>\n",
              "      <td>N. AND E. COAST CRETE</td>\n",
              "      <td>35.500</td>\n",
              "      <td>25.0000</td>\n",
              "      <td>50</td>\n",
              "      <td>106.0</td>\n",
              "      <td>NaN</td>\n",
              "      <td>NaN</td>\n",
              "      <td>NaN</td>\n",
              "      <td>NaN</td>\n",
              "      <td>NaN</td>\n",
              "      <td>NaN</td>\n",
              "      <td>NaN</td>\n",
              "      <td>1.0</td>\n",
              "      <td>NaN</td>\n",
              "      <td>NaN</td>\n",
              "      <td>NaN</td>\n",
              "      <td>3.0</td>\n",
              "      <td>NaN</td>\n",
              "      <td>NaN</td>\n",
              "      <td>NaN</td>\n",
              "      <td>3.0</td>\n",
              "      <td>NaN</td>\n",
              "      <td>NaN</td>\n",
              "      <td>NaN</td>\n",
              "      <td></td>\n",
              "    </tr>\n",
              "    <tr>\n",
              "      <th>3</th>\n",
              "      <td>2</td>\n",
              "      <td>9</td>\n",
              "      <td>-479</td>\n",
              "      <td>NaN</td>\n",
              "      <td>NaN</td>\n",
              "      <td>NaN</td>\n",
              "      <td>NaN</td>\n",
              "      <td>NaN</td>\n",
              "      <td>NaN</td>\n",
              "      <td>GREECE</td>\n",
              "      <td>NaN</td>\n",
              "      <td>POTIDAEA, MACEDONIA</td>\n",
              "      <td>40.300</td>\n",
              "      <td>23.3300</td>\n",
              "      <td>50</td>\n",
              "      <td>67.0</td>\n",
              "      <td>NaN</td>\n",
              "      <td>NaN</td>\n",
              "      <td>NaN</td>\n",
              "      <td>NaN</td>\n",
              "      <td>NaN</td>\n",
              "      <td>NaN</td>\n",
              "      <td>NaN</td>\n",
              "      <td>1.0</td>\n",
              "      <td>NaN</td>\n",
              "      <td>NaN</td>\n",
              "      <td>NaN</td>\n",
              "      <td>3.0</td>\n",
              "      <td>NaN</td>\n",
              "      <td>NaN</td>\n",
              "      <td>NaN</td>\n",
              "      <td>NaN</td>\n",
              "      <td>NaN</td>\n",
              "      <td>NaN</td>\n",
              "      <td>NaN</td>\n",
              "      <td></td>\n",
              "    </tr>\n",
              "    <tr>\n",
              "      <th>4</th>\n",
              "      <td>7</td>\n",
              "      <td>10</td>\n",
              "      <td>-426</td>\n",
              "      <td>6.0</td>\n",
              "      <td>NaN</td>\n",
              "      <td>NaN</td>\n",
              "      <td>NaN</td>\n",
              "      <td>NaN</td>\n",
              "      <td>NaN</td>\n",
              "      <td>GREECE</td>\n",
              "      <td>NaN</td>\n",
              "      <td>OPOUS</td>\n",
              "      <td>38.633</td>\n",
              "      <td>23.0833</td>\n",
              "      <td>50</td>\n",
              "      <td>45.0</td>\n",
              "      <td>NaN</td>\n",
              "      <td>NaN</td>\n",
              "      <td>NaN</td>\n",
              "      <td>NaN</td>\n",
              "      <td>NaN</td>\n",
              "      <td>NaN</td>\n",
              "      <td>800.0</td>\n",
              "      <td>1.0</td>\n",
              "      <td>NaN</td>\n",
              "      <td>NaN</td>\n",
              "      <td>NaN</td>\n",
              "      <td>NaN</td>\n",
              "      <td>NaN</td>\n",
              "      <td>NaN</td>\n",
              "      <td>NaN</td>\n",
              "      <td>NaN</td>\n",
              "      <td>NaN</td>\n",
              "      <td>NaN</td>\n",
              "      <td>NaN</td>\n",
              "      <td></td>\n",
              "    </tr>\n",
              "  </tbody>\n",
              "</table>\n",
              "</div>"
            ],
            "text/plain": [
              "     I_D  TSEVENT_ID  ...  HOUSES_DESTROYED  HOUSES_DESTROYED_DESCRIPTION\n",
              "0  11014           1  ...               NaN                              \n",
              "1  17601           3  ...               NaN                              \n",
              "2      1           3  ...               NaN                              \n",
              "3      2           9  ...               NaN                              \n",
              "4      7          10  ...               NaN                              \n",
              "\n",
              "[5 rows x 36 columns]"
            ]
          },
          "metadata": {
            "tags": []
          },
          "execution_count": 4
        }
      ]
    },
    {
      "cell_type": "code",
      "metadata": {
        "id": "MtMPdZp8Orsl",
        "colab_type": "code",
        "colab": {
          "base_uri": "https://localhost:8080/",
          "height": 646
        },
        "outputId": "d9c6b406-3be2-40bf-896f-53d8e37b548b"
      },
      "source": [
        "tsu.isnull().sum()"
      ],
      "execution_count": 5,
      "outputs": [
        {
          "output_type": "execute_result",
          "data": {
            "text/plain": [
              "I_D                                 0\n",
              "TSEVENT_ID                          0\n",
              "YEAR                                0\n",
              "MONTH                             112\n",
              "DAY                               229\n",
              "HOUR                             1867\n",
              "MINUTE                           2096\n",
              "SECOND                           4582\n",
              "DOUBTFUL                        27626\n",
              "COUNTRY                             2\n",
              "STATE                            5711\n",
              "LOCATION_NAME                       5\n",
              "LATITUDE                          647\n",
              "LONGITUDE                         647\n",
              "REGION_CODE                         0\n",
              "DISTANCE_FROM_SOURCE              966\n",
              "ARR_DAY                         24467\n",
              "ARR_HOUR                        24517\n",
              "ARR_MIN                         24586\n",
              "TRAVEL_TIME_HOURS               24756\n",
              "TRAVEL_TIME_MINUTES             24763\n",
              "WATER_HT                         4148\n",
              "HORIZONTAL_INUNDATION           18948\n",
              "TYPE_MEASUREMENT_ID               234\n",
              "PERIOD                          25638\n",
              "FIRST_MOTION                    26532\n",
              "DEATHS                          27387\n",
              "DEATHS_DESCRIPTION              27153\n",
              "INJURIES                        27977\n",
              "INJURIES_DESCRIPTION            27970\n",
              "DAMAGE_MILLIONS_DOLLARS         27986\n",
              "DAMAGE_DESCRIPTION              25972\n",
              "HOUSES_DAMAGED                  27953\n",
              "HOUSES_DAMAGED_DESCRIPTION      27660\n",
              "HOUSES_DESTROYED                27795\n",
              "HOUSES_DESTROYED_DESCRIPTION        0\n",
              "dtype: int64"
            ]
          },
          "metadata": {
            "tags": []
          },
          "execution_count": 5
        }
      ]
    },
    {
      "cell_type": "code",
      "metadata": {
        "id": "-Awa-_OlOrsw",
        "colab_type": "code",
        "colab": {}
      },
      "source": [
        "tsu  = tsu[['DAY','MONTH','YEAR', 'LOCATION_NAME','COUNTRY','LATITUDE','LONGITUDE']]"
      ],
      "execution_count": 6,
      "outputs": []
    },
    {
      "cell_type": "code",
      "metadata": {
        "id": "rGhm7uDxOrs4",
        "colab_type": "code",
        "colab": {
          "base_uri": "https://localhost:8080/",
          "height": 204
        },
        "outputId": "44bfe2d5-bb68-4607-fe14-899b441a255d"
      },
      "source": [
        "tsu.head()"
      ],
      "execution_count": 7,
      "outputs": [
        {
          "output_type": "execute_result",
          "data": {
            "text/html": [
              "<div>\n",
              "<style scoped>\n",
              "    .dataframe tbody tr th:only-of-type {\n",
              "        vertical-align: middle;\n",
              "    }\n",
              "\n",
              "    .dataframe tbody tr th {\n",
              "        vertical-align: top;\n",
              "    }\n",
              "\n",
              "    .dataframe thead th {\n",
              "        text-align: right;\n",
              "    }\n",
              "</style>\n",
              "<table border=\"1\" class=\"dataframe\">\n",
              "  <thead>\n",
              "    <tr style=\"text-align: right;\">\n",
              "      <th></th>\n",
              "      <th>DAY</th>\n",
              "      <th>MONTH</th>\n",
              "      <th>YEAR</th>\n",
              "      <th>LOCATION_NAME</th>\n",
              "      <th>COUNTRY</th>\n",
              "      <th>LATITUDE</th>\n",
              "      <th>LONGITUDE</th>\n",
              "    </tr>\n",
              "  </thead>\n",
              "  <tbody>\n",
              "    <tr>\n",
              "      <th>0</th>\n",
              "      <td>NaN</td>\n",
              "      <td>NaN</td>\n",
              "      <td>-2000</td>\n",
              "      <td>UGARIT</td>\n",
              "      <td>SYRIA</td>\n",
              "      <td>35.583</td>\n",
              "      <td>35.7500</td>\n",
              "    </tr>\n",
              "    <tr>\n",
              "      <th>1</th>\n",
              "      <td>NaN</td>\n",
              "      <td>NaN</td>\n",
              "      <td>-1610</td>\n",
              "      <td>UGARIT</td>\n",
              "      <td>SYRIA</td>\n",
              "      <td>35.583</td>\n",
              "      <td>35.7500</td>\n",
              "    </tr>\n",
              "    <tr>\n",
              "      <th>2</th>\n",
              "      <td>NaN</td>\n",
              "      <td>NaN</td>\n",
              "      <td>-1610</td>\n",
              "      <td>N. AND E. COAST CRETE</td>\n",
              "      <td>GREECE</td>\n",
              "      <td>35.500</td>\n",
              "      <td>25.0000</td>\n",
              "    </tr>\n",
              "    <tr>\n",
              "      <th>3</th>\n",
              "      <td>NaN</td>\n",
              "      <td>NaN</td>\n",
              "      <td>-479</td>\n",
              "      <td>POTIDAEA, MACEDONIA</td>\n",
              "      <td>GREECE</td>\n",
              "      <td>40.300</td>\n",
              "      <td>23.3300</td>\n",
              "    </tr>\n",
              "    <tr>\n",
              "      <th>4</th>\n",
              "      <td>NaN</td>\n",
              "      <td>6.0</td>\n",
              "      <td>-426</td>\n",
              "      <td>OPOUS</td>\n",
              "      <td>GREECE</td>\n",
              "      <td>38.633</td>\n",
              "      <td>23.0833</td>\n",
              "    </tr>\n",
              "  </tbody>\n",
              "</table>\n",
              "</div>"
            ],
            "text/plain": [
              "   DAY  MONTH  YEAR          LOCATION_NAME COUNTRY  LATITUDE  LONGITUDE\n",
              "0  NaN    NaN -2000                 UGARIT   SYRIA    35.583    35.7500\n",
              "1  NaN    NaN -1610                 UGARIT   SYRIA    35.583    35.7500\n",
              "2  NaN    NaN -1610  N. AND E. COAST CRETE  GREECE    35.500    25.0000\n",
              "3  NaN    NaN  -479    POTIDAEA, MACEDONIA  GREECE    40.300    23.3300\n",
              "4  NaN    6.0  -426                  OPOUS  GREECE    38.633    23.0833"
            ]
          },
          "metadata": {
            "tags": []
          },
          "execution_count": 7
        }
      ]
    },
    {
      "cell_type": "code",
      "metadata": {
        "id": "rQDYhm1HOrtE",
        "colab_type": "code",
        "colab": {
          "base_uri": "https://localhost:8080/",
          "height": 204
        },
        "outputId": "7b0efce8-7a3e-4e86-8bbb-1de3976964d6"
      },
      "source": [
        "tsu_2000= tsu[tsu['YEAR'] >= 2000]\n",
        "tsu_2000.head()"
      ],
      "execution_count": 8,
      "outputs": [
        {
          "output_type": "execute_result",
          "data": {
            "text/html": [
              "<div>\n",
              "<style scoped>\n",
              "    .dataframe tbody tr th:only-of-type {\n",
              "        vertical-align: middle;\n",
              "    }\n",
              "\n",
              "    .dataframe tbody tr th {\n",
              "        vertical-align: top;\n",
              "    }\n",
              "\n",
              "    .dataframe thead th {\n",
              "        text-align: right;\n",
              "    }\n",
              "</style>\n",
              "<table border=\"1\" class=\"dataframe\">\n",
              "  <thead>\n",
              "    <tr style=\"text-align: right;\">\n",
              "      <th></th>\n",
              "      <th>DAY</th>\n",
              "      <th>MONTH</th>\n",
              "      <th>YEAR</th>\n",
              "      <th>LOCATION_NAME</th>\n",
              "      <th>COUNTRY</th>\n",
              "      <th>LATITUDE</th>\n",
              "      <th>LONGITUDE</th>\n",
              "    </tr>\n",
              "  </thead>\n",
              "  <tbody>\n",
              "    <tr>\n",
              "      <th>14030</th>\n",
              "      <td>26.0</td>\n",
              "      <td>1.0</td>\n",
              "      <td>2000</td>\n",
              "      <td>MATATA</td>\n",
              "      <td>PHILIPPINES</td>\n",
              "      <td>5.130</td>\n",
              "      <td>120.33</td>\n",
              "    </tr>\n",
              "    <tr>\n",
              "      <th>14031</th>\n",
              "      <td>26.0</td>\n",
              "      <td>1.0</td>\n",
              "      <td>2000</td>\n",
              "      <td>SAPA-SAPA ISLAND</td>\n",
              "      <td>PHILIPPINES</td>\n",
              "      <td>5.100</td>\n",
              "      <td>120.27</td>\n",
              "    </tr>\n",
              "    <tr>\n",
              "      <th>14032</th>\n",
              "      <td>26.0</td>\n",
              "      <td>1.0</td>\n",
              "      <td>2000</td>\n",
              "      <td>TAWI TAWI</td>\n",
              "      <td>PHILIPPINES</td>\n",
              "      <td>4.760</td>\n",
              "      <td>119.41</td>\n",
              "    </tr>\n",
              "    <tr>\n",
              "      <th>14033</th>\n",
              "      <td>26.0</td>\n",
              "      <td>1.0</td>\n",
              "      <td>2000</td>\n",
              "      <td>SIMUNOL</td>\n",
              "      <td>PHILIPPINES</td>\n",
              "      <td>4.550</td>\n",
              "      <td>119.82</td>\n",
              "    </tr>\n",
              "    <tr>\n",
              "      <th>14034</th>\n",
              "      <td>5.0</td>\n",
              "      <td>4.0</td>\n",
              "      <td>2000</td>\n",
              "      <td>HERAKLION (IRAKLION), CRETE</td>\n",
              "      <td>GREECE</td>\n",
              "      <td>35.339</td>\n",
              "      <td>25.18</td>\n",
              "    </tr>\n",
              "  </tbody>\n",
              "</table>\n",
              "</div>"
            ],
            "text/plain": [
              "        DAY  MONTH  YEAR  ...      COUNTRY LATITUDE  LONGITUDE\n",
              "14030  26.0    1.0  2000  ...  PHILIPPINES    5.130     120.33\n",
              "14031  26.0    1.0  2000  ...  PHILIPPINES    5.100     120.27\n",
              "14032  26.0    1.0  2000  ...  PHILIPPINES    4.760     119.41\n",
              "14033  26.0    1.0  2000  ...  PHILIPPINES    4.550     119.82\n",
              "14034   5.0    4.0  2000  ...       GREECE   35.339      25.18\n",
              "\n",
              "[5 rows x 7 columns]"
            ]
          },
          "metadata": {
            "tags": []
          },
          "execution_count": 8
        }
      ]
    },
    {
      "cell_type": "code",
      "metadata": {
        "id": "qusCq8mFOrtU",
        "colab_type": "code",
        "colab": {
          "base_uri": "https://localhost:8080/",
          "height": 34
        },
        "outputId": "08b9bff9-6271-407e-ae1a-e8f7be6a0465"
      },
      "source": [
        "tsu_2000.shape"
      ],
      "execution_count": 9,
      "outputs": [
        {
          "output_type": "execute_result",
          "data": {
            "text/plain": [
              "(14093, 7)"
            ]
          },
          "metadata": {
            "tags": []
          },
          "execution_count": 9
        }
      ]
    },
    {
      "cell_type": "code",
      "metadata": {
        "id": "zE4gxZE0Ortg",
        "colab_type": "code",
        "colab": {
          "base_uri": "https://localhost:8080/",
          "height": 153
        },
        "outputId": "4786a3ce-9399-4067-e123-57182fa38e06"
      },
      "source": [
        "tsu_2000.isnull().sum()"
      ],
      "execution_count": 10,
      "outputs": [
        {
          "output_type": "execute_result",
          "data": {
            "text/plain": [
              "DAY               0\n",
              "MONTH             0\n",
              "YEAR              0\n",
              "LOCATION_NAME     1\n",
              "COUNTRY           0\n",
              "LATITUDE         61\n",
              "LONGITUDE        61\n",
              "dtype: int64"
            ]
          },
          "metadata": {
            "tags": []
          },
          "execution_count": 10
        }
      ]
    },
    {
      "cell_type": "code",
      "metadata": {
        "id": "ANj4cyspOrto",
        "colab_type": "code",
        "colab": {}
      },
      "source": [
        "tsu_2000 = tsu_2000.dropna()"
      ],
      "execution_count": 11,
      "outputs": []
    },
    {
      "cell_type": "code",
      "metadata": {
        "id": "Jr-TA9LPOrtw",
        "colab_type": "code",
        "colab": {
          "base_uri": "https://localhost:8080/",
          "height": 34
        },
        "outputId": "b71d7263-4e58-4a6e-f229-0331d461e5ef"
      },
      "source": [
        "tsu_2000.duplicated().any()"
      ],
      "execution_count": 12,
      "outputs": [
        {
          "output_type": "execute_result",
          "data": {
            "text/plain": [
              "True"
            ]
          },
          "metadata": {
            "tags": []
          },
          "execution_count": 12
        }
      ]
    },
    {
      "cell_type": "code",
      "metadata": {
        "id": "F0__TFZgOrt6",
        "colab_type": "code",
        "colab": {}
      },
      "source": [
        "tsu_2000.drop_duplicates(inplace=True)"
      ],
      "execution_count": 13,
      "outputs": []
    },
    {
      "cell_type": "code",
      "metadata": {
        "id": "2HrtTLRKOruC",
        "colab_type": "code",
        "colab": {}
      },
      "source": [
        "tsu_2000.reset_index(drop=True,inplace=True)"
      ],
      "execution_count": 14,
      "outputs": []
    },
    {
      "cell_type": "code",
      "metadata": {
        "scrolled": true,
        "id": "xeGtbjZuOruJ",
        "colab_type": "code",
        "colab": {
          "base_uri": "https://localhost:8080/",
          "height": 34
        },
        "outputId": "5b01299f-a5db-4cd4-fe48-fe8c1cb1c4fc"
      },
      "source": [
        "tsu_2000.shape"
      ],
      "execution_count": 15,
      "outputs": [
        {
          "output_type": "execute_result",
          "data": {
            "text/plain": [
              "(13545, 7)"
            ]
          },
          "metadata": {
            "tags": []
          },
          "execution_count": 15
        }
      ]
    },
    {
      "cell_type": "code",
      "metadata": {
        "id": "ZhpNIPe0OruT",
        "colab_type": "code",
        "colab": {}
      },
      "source": [
        "tsu_2000.rename(columns={'DAY':'Day',\n",
        "                          'MONTH':'Month',\n",
        "                          'YEAR':'Year',\n",
        "                        'LOCATION_NAME':'Name',\n",
        "                        'COUNTRY':'Country',\n",
        "                         'LATITUDE':'Latitude',\n",
        "                         'LONGITUDE':'Longitude'}, \n",
        "                 inplace=True)"
      ],
      "execution_count": 16,
      "outputs": []
    },
    {
      "cell_type": "code",
      "metadata": {
        "id": "SiqP5ySgOrub",
        "colab_type": "code",
        "colab": {
          "base_uri": "https://localhost:8080/",
          "height": 204
        },
        "outputId": "07dc8eb7-6f4c-4644-8243-b7f95b006163"
      },
      "source": [
        "tsu_2000.head()"
      ],
      "execution_count": 17,
      "outputs": [
        {
          "output_type": "execute_result",
          "data": {
            "text/html": [
              "<div>\n",
              "<style scoped>\n",
              "    .dataframe tbody tr th:only-of-type {\n",
              "        vertical-align: middle;\n",
              "    }\n",
              "\n",
              "    .dataframe tbody tr th {\n",
              "        vertical-align: top;\n",
              "    }\n",
              "\n",
              "    .dataframe thead th {\n",
              "        text-align: right;\n",
              "    }\n",
              "</style>\n",
              "<table border=\"1\" class=\"dataframe\">\n",
              "  <thead>\n",
              "    <tr style=\"text-align: right;\">\n",
              "      <th></th>\n",
              "      <th>Day</th>\n",
              "      <th>Month</th>\n",
              "      <th>Year</th>\n",
              "      <th>Name</th>\n",
              "      <th>Country</th>\n",
              "      <th>Latitude</th>\n",
              "      <th>Longitude</th>\n",
              "    </tr>\n",
              "  </thead>\n",
              "  <tbody>\n",
              "    <tr>\n",
              "      <th>0</th>\n",
              "      <td>26.0</td>\n",
              "      <td>1.0</td>\n",
              "      <td>2000</td>\n",
              "      <td>MATATA</td>\n",
              "      <td>PHILIPPINES</td>\n",
              "      <td>5.130</td>\n",
              "      <td>120.33</td>\n",
              "    </tr>\n",
              "    <tr>\n",
              "      <th>1</th>\n",
              "      <td>26.0</td>\n",
              "      <td>1.0</td>\n",
              "      <td>2000</td>\n",
              "      <td>SAPA-SAPA ISLAND</td>\n",
              "      <td>PHILIPPINES</td>\n",
              "      <td>5.100</td>\n",
              "      <td>120.27</td>\n",
              "    </tr>\n",
              "    <tr>\n",
              "      <th>2</th>\n",
              "      <td>26.0</td>\n",
              "      <td>1.0</td>\n",
              "      <td>2000</td>\n",
              "      <td>TAWI TAWI</td>\n",
              "      <td>PHILIPPINES</td>\n",
              "      <td>4.760</td>\n",
              "      <td>119.41</td>\n",
              "    </tr>\n",
              "    <tr>\n",
              "      <th>3</th>\n",
              "      <td>26.0</td>\n",
              "      <td>1.0</td>\n",
              "      <td>2000</td>\n",
              "      <td>SIMUNOL</td>\n",
              "      <td>PHILIPPINES</td>\n",
              "      <td>4.550</td>\n",
              "      <td>119.82</td>\n",
              "    </tr>\n",
              "    <tr>\n",
              "      <th>4</th>\n",
              "      <td>5.0</td>\n",
              "      <td>4.0</td>\n",
              "      <td>2000</td>\n",
              "      <td>HERAKLION (IRAKLION), CRETE</td>\n",
              "      <td>GREECE</td>\n",
              "      <td>35.339</td>\n",
              "      <td>25.18</td>\n",
              "    </tr>\n",
              "  </tbody>\n",
              "</table>\n",
              "</div>"
            ],
            "text/plain": [
              "    Day  Month  Year  ...      Country Latitude  Longitude\n",
              "0  26.0    1.0  2000  ...  PHILIPPINES    5.130     120.33\n",
              "1  26.0    1.0  2000  ...  PHILIPPINES    5.100     120.27\n",
              "2  26.0    1.0  2000  ...  PHILIPPINES    4.760     119.41\n",
              "3  26.0    1.0  2000  ...  PHILIPPINES    4.550     119.82\n",
              "4   5.0    4.0  2000  ...       GREECE   35.339      25.18\n",
              "\n",
              "[5 rows x 7 columns]"
            ]
          },
          "metadata": {
            "tags": []
          },
          "execution_count": 17
        }
      ]
    },
    {
      "cell_type": "code",
      "metadata": {
        "id": "aBG7wKNmOrui",
        "colab_type": "code",
        "colab": {
          "base_uri": "https://localhost:8080/",
          "height": 68
        },
        "outputId": "40744792-9355-43a6-b5ea-08c1e96b0de2"
      },
      "source": [
        "preprocessed_tsu = preprocessing_dataframe(tsu_2000)"
      ],
      "execution_count": 18,
      "outputs": [
        {
          "output_type": "stream",
          "text": [
            "Preprocessing ... \n",
            " \n",
            "Done!\n"
          ],
          "name": "stdout"
        }
      ]
    },
    {
      "cell_type": "code",
      "metadata": {
        "id": "3Gs-zsFq5rSL",
        "colab_type": "code",
        "colab": {
          "base_uri": "https://localhost:8080/",
          "height": 419
        },
        "outputId": "28c10729-7a50-42be-8c62-05eb3637fab7"
      },
      "source": [
        "preprocessed_tsu[preprocessed_tsu['target'] == 1]"
      ],
      "execution_count": 41,
      "outputs": [
        {
          "output_type": "execute_result",
          "data": {
            "text/html": [
              "<div>\n",
              "<style scoped>\n",
              "    .dataframe tbody tr th:only-of-type {\n",
              "        vertical-align: middle;\n",
              "    }\n",
              "\n",
              "    .dataframe tbody tr th {\n",
              "        vertical-align: top;\n",
              "    }\n",
              "\n",
              "    .dataframe thead th {\n",
              "        text-align: right;\n",
              "    }\n",
              "</style>\n",
              "<table border=\"1\" class=\"dataframe\">\n",
              "  <thead>\n",
              "    <tr style=\"text-align: right;\">\n",
              "      <th></th>\n",
              "      <th>Year</th>\n",
              "      <th>Latitude</th>\n",
              "      <th>Longitude</th>\n",
              "      <th>Month</th>\n",
              "      <th>Day</th>\n",
              "      <th>target</th>\n",
              "    </tr>\n",
              "  </thead>\n",
              "  <tbody>\n",
              "    <tr>\n",
              "      <th>25</th>\n",
              "      <td>2000</td>\n",
              "      <td>5.13000</td>\n",
              "      <td>120.33000</td>\n",
              "      <td>1</td>\n",
              "      <td>26</td>\n",
              "      <td>1</td>\n",
              "    </tr>\n",
              "    <tr>\n",
              "      <th>391</th>\n",
              "      <td>2000</td>\n",
              "      <td>5.10000</td>\n",
              "      <td>120.27000</td>\n",
              "      <td>1</td>\n",
              "      <td>26</td>\n",
              "      <td>1</td>\n",
              "    </tr>\n",
              "    <tr>\n",
              "      <th>757</th>\n",
              "      <td>2000</td>\n",
              "      <td>4.76000</td>\n",
              "      <td>119.41000</td>\n",
              "      <td>1</td>\n",
              "      <td>26</td>\n",
              "      <td>1</td>\n",
              "    </tr>\n",
              "    <tr>\n",
              "      <th>1123</th>\n",
              "      <td>2000</td>\n",
              "      <td>4.55000</td>\n",
              "      <td>119.82000</td>\n",
              "      <td>1</td>\n",
              "      <td>26</td>\n",
              "      <td>1</td>\n",
              "    </tr>\n",
              "    <tr>\n",
              "      <th>1559</th>\n",
              "      <td>2000</td>\n",
              "      <td>35.33900</td>\n",
              "      <td>25.18000</td>\n",
              "      <td>4</td>\n",
              "      <td>5</td>\n",
              "      <td>1</td>\n",
              "    </tr>\n",
              "    <tr>\n",
              "      <th>...</th>\n",
              "      <td>...</td>\n",
              "      <td>...</td>\n",
              "      <td>...</td>\n",
              "      <td>...</td>\n",
              "      <td>...</td>\n",
              "      <td>...</td>\n",
              "    </tr>\n",
              "    <tr>\n",
              "      <th>28795110</th>\n",
              "      <td>2020</td>\n",
              "      <td>18.50460</td>\n",
              "      <td>-68.37550</td>\n",
              "      <td>1</td>\n",
              "      <td>7</td>\n",
              "      <td>1</td>\n",
              "    </tr>\n",
              "    <tr>\n",
              "      <th>28795476</th>\n",
              "      <td>2020</td>\n",
              "      <td>18.31820</td>\n",
              "      <td>-64.72420</td>\n",
              "      <td>1</td>\n",
              "      <td>7</td>\n",
              "      <td>1</td>\n",
              "    </tr>\n",
              "    <tr>\n",
              "      <th>28795842</th>\n",
              "      <td>2020</td>\n",
              "      <td>18.09386</td>\n",
              "      <td>-65.47135</td>\n",
              "      <td>1</td>\n",
              "      <td>7</td>\n",
              "      <td>1</td>\n",
              "    </tr>\n",
              "    <tr>\n",
              "      <th>28796324</th>\n",
              "      <td>2020</td>\n",
              "      <td>35.00000</td>\n",
              "      <td>25.74000</td>\n",
              "      <td>5</td>\n",
              "      <td>2</td>\n",
              "      <td>1</td>\n",
              "    </tr>\n",
              "    <tr>\n",
              "      <th>28796717</th>\n",
              "      <td>2020</td>\n",
              "      <td>-8.05800</td>\n",
              "      <td>114.24200</td>\n",
              "      <td>5</td>\n",
              "      <td>29</td>\n",
              "      <td>1</td>\n",
              "    </tr>\n",
              "  </tbody>\n",
              "</table>\n",
              "<p>5890 rows × 6 columns</p>\n",
              "</div>"
            ],
            "text/plain": [
              "          Year  Latitude  Longitude  Month  Day  target\n",
              "25        2000   5.13000  120.33000      1   26       1\n",
              "391       2000   5.10000  120.27000      1   26       1\n",
              "757       2000   4.76000  119.41000      1   26       1\n",
              "1123      2000   4.55000  119.82000      1   26       1\n",
              "1559      2000  35.33900   25.18000      4    5       1\n",
              "...        ...       ...        ...    ...  ...     ...\n",
              "28795110  2020  18.50460  -68.37550      1    7       1\n",
              "28795476  2020  18.31820  -64.72420      1    7       1\n",
              "28795842  2020  18.09386  -65.47135      1    7       1\n",
              "28796324  2020  35.00000   25.74000      5    2       1\n",
              "28796717  2020  -8.05800  114.24200      5   29       1\n",
              "\n",
              "[5890 rows x 6 columns]"
            ]
          },
          "metadata": {
            "tags": []
          },
          "execution_count": 41
        }
      ]
    },
    {
      "cell_type": "code",
      "metadata": {
        "id": "EA51exfE6Ppo",
        "colab_type": "code",
        "colab": {
          "base_uri": "https://localhost:8080/",
          "height": 34
        },
        "outputId": "6c5e0e27-4732-48c4-88c5-eacd341374c9"
      },
      "source": [
        "len(preprocessed_tsu[preprocessed_tsu['target'] == 1])"
      ],
      "execution_count": 43,
      "outputs": [
        {
          "output_type": "execute_result",
          "data": {
            "text/plain": [
              "5890"
            ]
          },
          "metadata": {
            "tags": []
          },
          "execution_count": 43
        }
      ]
    },
    {
      "cell_type": "code",
      "metadata": {
        "id": "KLXG034Y6jPB",
        "colab_type": "code",
        "colab": {
          "base_uri": "https://localhost:8080/",
          "height": 34
        },
        "outputId": "81e5a4a4-18b0-48b6-cbfb-b0d566e5c71e"
      },
      "source": [
        "len(preprocessed_tsu[preprocessed_tsu['target'] == 0])"
      ],
      "execution_count": 44,
      "outputs": [
        {
          "output_type": "execute_result",
          "data": {
            "text/plain": [
              "28791044"
            ]
          },
          "metadata": {
            "tags": []
          },
          "execution_count": 44
        }
      ]
    },
    {
      "cell_type": "code",
      "metadata": {
        "id": "5qxqxUmaOrut",
        "colab_type": "code",
        "colab": {
          "base_uri": "https://localhost:8080/",
          "height": 34
        },
        "outputId": "8b0d8bfc-ae05-43a4-e092-d98002a10d9e"
      },
      "source": [
        "# ------------ --------- ------ ------------- ------- -------- -------- --------- ----------- -------- ------\n",
        "preprocessed_tsu.shape\n"
      ],
      "execution_count": 21,
      "outputs": [
        {
          "output_type": "execute_result",
          "data": {
            "text/plain": [
              "(28796934, 6)"
            ]
          },
          "metadata": {
            "tags": []
          },
          "execution_count": 21
        }
      ]
    },
    {
      "cell_type": "code",
      "metadata": {
        "id": "nARMxCvrawVx",
        "colab_type": "code",
        "colab": {}
      },
      "source": [
        "x = preprocessed_tsu.iloc[:,0:5].values"
      ],
      "execution_count": 25,
      "outputs": []
    },
    {
      "cell_type": "code",
      "metadata": {
        "id": "u_L9uUISydvT",
        "colab_type": "code",
        "colab": {}
      },
      "source": [
        "y = preprocessed_tsu.iloc[:, 5].values"
      ],
      "execution_count": 26,
      "outputs": []
    },
    {
      "cell_type": "code",
      "metadata": {
        "id": "y2e3S3GJy_Sh",
        "colab_type": "code",
        "colab": {}
      },
      "source": [
        "from sklearn.model_selection import train_test_split\n",
        "x_train, x_test, y_train, y_test = train_test_split(x,y, test_size = 0.25, random_state = 0)"
      ],
      "execution_count": 27,
      "outputs": []
    },
    {
      "cell_type": "code",
      "metadata": {
        "id": "cMsJ2vMPzId8",
        "colab_type": "code",
        "colab": {}
      },
      "source": [
        "from sklearn.preprocessing import StandardScaler\n",
        "sc = StandardScaler()\n",
        "x_train = sc.fit_transform(x_train)\n",
        "x_test =  sc.transform(x_test)"
      ],
      "execution_count": 28,
      "outputs": []
    },
    {
      "cell_type": "code",
      "metadata": {
        "id": "vSNZ6G66zQsZ",
        "colab_type": "code",
        "colab": {
          "base_uri": "https://localhost:8080/",
          "height": 34
        },
        "outputId": "c97954cc-9170-46c7-8dff-26f84f00fb66"
      },
      "source": [
        "from sklearn.naive_bayes import GaussianNB\n",
        "classifier= GaussianNB()\n",
        "classifier.fit(x_train, y_train)"
      ],
      "execution_count": 29,
      "outputs": [
        {
          "output_type": "execute_result",
          "data": {
            "text/plain": [
              "GaussianNB(priors=None, var_smoothing=1e-09)"
            ]
          },
          "metadata": {
            "tags": []
          },
          "execution_count": 29
        }
      ]
    },
    {
      "cell_type": "code",
      "metadata": {
        "id": "o5cOXqNAzYdj",
        "colab_type": "code",
        "colab": {}
      },
      "source": [
        "y_pred = classifier.predict(x_test)"
      ],
      "execution_count": 30,
      "outputs": []
    },
    {
      "cell_type": "code",
      "metadata": {
        "id": "jdgrss2czhPu",
        "colab_type": "code",
        "colab": {}
      },
      "source": [
        "from sklearn.metrics import confusion_matrix, classification_report\n",
        "cm = confusion_matrix(y_test, y_pred)"
      ],
      "execution_count": 31,
      "outputs": []
    },
    {
      "cell_type": "code",
      "metadata": {
        "id": "y7Pv9OrzzpGD",
        "colab_type": "code",
        "colab": {
          "base_uri": "https://localhost:8080/",
          "height": 51
        },
        "outputId": "23e6a0a6-1f8b-4b81-a9ec-edac8eb81576"
      },
      "source": [
        "cm"
      ],
      "execution_count": 32,
      "outputs": [
        {
          "output_type": "execute_result",
          "data": {
            "text/plain": [
              "array([[7197790,       0],\n",
              "       [   1444,       0]])"
            ]
          },
          "metadata": {
            "tags": []
          },
          "execution_count": 32
        }
      ]
    },
    {
      "cell_type": "code",
      "metadata": {
        "id": "K21mGPP5zuZj",
        "colab_type": "code",
        "colab": {}
      },
      "source": [
        "analysis = pd.DataFrame(y_pred, columns=['predicted'])"
      ],
      "execution_count": 37,
      "outputs": []
    },
    {
      "cell_type": "code",
      "metadata": {
        "id": "eRqLhNRO2nuf",
        "colab_type": "code",
        "colab": {
          "base_uri": "https://localhost:8080/",
          "height": 204
        },
        "outputId": "95bd55e2-6276-4085-a8c7-2f9d08787191"
      },
      "source": [
        "analysis.head()"
      ],
      "execution_count": 38,
      "outputs": [
        {
          "output_type": "execute_result",
          "data": {
            "text/html": [
              "<div>\n",
              "<style scoped>\n",
              "    .dataframe tbody tr th:only-of-type {\n",
              "        vertical-align: middle;\n",
              "    }\n",
              "\n",
              "    .dataframe tbody tr th {\n",
              "        vertical-align: top;\n",
              "    }\n",
              "\n",
              "    .dataframe thead th {\n",
              "        text-align: right;\n",
              "    }\n",
              "</style>\n",
              "<table border=\"1\" class=\"dataframe\">\n",
              "  <thead>\n",
              "    <tr style=\"text-align: right;\">\n",
              "      <th></th>\n",
              "      <th>predicted</th>\n",
              "    </tr>\n",
              "  </thead>\n",
              "  <tbody>\n",
              "    <tr>\n",
              "      <th>0</th>\n",
              "      <td>0</td>\n",
              "    </tr>\n",
              "    <tr>\n",
              "      <th>1</th>\n",
              "      <td>0</td>\n",
              "    </tr>\n",
              "    <tr>\n",
              "      <th>2</th>\n",
              "      <td>0</td>\n",
              "    </tr>\n",
              "    <tr>\n",
              "      <th>3</th>\n",
              "      <td>0</td>\n",
              "    </tr>\n",
              "    <tr>\n",
              "      <th>4</th>\n",
              "      <td>0</td>\n",
              "    </tr>\n",
              "  </tbody>\n",
              "</table>\n",
              "</div>"
            ],
            "text/plain": [
              "   predicted\n",
              "0          0\n",
              "1          0\n",
              "2          0\n",
              "3          0\n",
              "4          0"
            ]
          },
          "metadata": {
            "tags": []
          },
          "execution_count": 38
        }
      ]
    },
    {
      "cell_type": "code",
      "metadata": {
        "id": "yrWPZEKx3n61",
        "colab_type": "code",
        "colab": {
          "base_uri": "https://localhost:8080/",
          "height": 49
        },
        "outputId": "61815f2b-047f-4be0-fe75-815b4563fb33"
      },
      "source": [
        "analysis[analysis['predicted'] == 1]"
      ],
      "execution_count": 40,
      "outputs": [
        {
          "output_type": "execute_result",
          "data": {
            "text/html": [
              "<div>\n",
              "<style scoped>\n",
              "    .dataframe tbody tr th:only-of-type {\n",
              "        vertical-align: middle;\n",
              "    }\n",
              "\n",
              "    .dataframe tbody tr th {\n",
              "        vertical-align: top;\n",
              "    }\n",
              "\n",
              "    .dataframe thead th {\n",
              "        text-align: right;\n",
              "    }\n",
              "</style>\n",
              "<table border=\"1\" class=\"dataframe\">\n",
              "  <thead>\n",
              "    <tr style=\"text-align: right;\">\n",
              "      <th></th>\n",
              "      <th>predicted</th>\n",
              "    </tr>\n",
              "  </thead>\n",
              "  <tbody>\n",
              "  </tbody>\n",
              "</table>\n",
              "</div>"
            ],
            "text/plain": [
              "Empty DataFrame\n",
              "Columns: [predicted]\n",
              "Index: []"
            ]
          },
          "metadata": {
            "tags": []
          },
          "execution_count": 40
        }
      ]
    },
    {
      "cell_type": "code",
      "metadata": {
        "id": "0DG7HuiX38vR",
        "colab_type": "code",
        "colab": {}
      },
      "source": [
        ""
      ],
      "execution_count": null,
      "outputs": []
    }
  ]
}